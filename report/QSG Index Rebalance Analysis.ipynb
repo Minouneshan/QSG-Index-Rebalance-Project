{
 "cells": [
  {
   "cell_type": "markdown",
   "id": "f402d799",
   "metadata": {},
   "source": [
    "# QSG Index Rebalance Project: Systematic Trading Strategy for Index Events\n",
    "\n",
    "**Quantitative Trader Candidate Project — Quantitative Strategies Group (QSG)**\n",
    "\n",
    "This notebook documents the design, implementation, and evaluation of systematic trading strategies for index rebalancing events, as required by the assignment.  \n",
    "It covers data preparation, strategy logic, parameter sweeps, risk management, and performance analysis, with all code and results fully reproducible."
   ]
  },
  {
   "cell_type": "markdown",
   "id": "2aabc0d7",
   "metadata": {},
   "source": [
    "## 1. Introduction & Objective\n",
    "\n",
    "**Objective:**  \n",
    "Analyze index addition events for S&P indices since May 2022 to identify and backtest systematic trading opportunities.  \n",
    "Showcase thought process, technical skills, and decision-making in a real-world trading context.\n",
    "\n",
    "**Assignment Requirements Addressed:**\n",
    "- Use provided index event data (S&P 400/500/600) and end-of-day price data (Yahoo Finance).\n",
    "- Design and backtest strategies: Post-Announcement Momentum, Event Day Reversion, Buy-and-Hold, Hedged Momentum.\n",
    "- Explore holding periods, risk management, and hedging.\n",
    "- Apply liquidity and execution constraints.\n",
    "- Document all steps, code, and results."
   ]
  },
  {
   "cell_type": "markdown",
   "id": "bcceee3f",
   "metadata": {},
   "source": [
    "## 2. Data Sources & Preparation\n",
    "\n",
    "**2.1. Event Data**  \n",
    "- Source: Provided Excel file with index addition events (S&P 400/500/600).\n",
    "- Key columns: `Announced`, `Trade Date`, `Yahoo_Ticker`.\n",
    "\n",
    "**2.2. Price Data**  \n",
    "- Source: Yahoo Finance via `yfinance` Python package.\n",
    "- Data: Daily OHLCV for all tickers in the event file, plus SPY for hedging.\n",
    "- All prices are adjusted for splits/dividends.\n",
    "\n",
    "**2.3. Data Cleaning & Filtering**  \n",
    "- Exclude events with missing price data (delisted, illiquid, or ticker changes).\n",
    "- Only keep events where both ticker and event date exist in price data.\n",
    "- Apply liquidity filters: position size ≤ 1% of 20-day ADV.\n",
    "- All trades executed at open/close prices only.\n",
    "\n",
    "**2.4. Data Loading Example**"
   ]
  },
  {
   "cell_type": "code",
   "execution_count": null,
   "id": "771ead61",
   "metadata": {},
   "outputs": [],
   "source": [
    "import pandas as pd\n",
    "\n",
    "# Load event data\n",
    "events = pd.read_excel(\"../data/Index Add Event Data.xlsx\", sheet_name='Data', parse_dates=['Announced', 'Trade Date'])\n",
    "events.head()"
   ]
  },
  {
   "cell_type": "markdown",
   "id": "d20aff6b",
   "metadata": {},
   "source": [
    "**Note:**  \n",
    "- Price data was retrieved programmatically using `yfinance`.\n",
    "- Exclusion stats (e.g., missing price, illiquid, too small) are tracked and reported for transparency.\n",
    "- All trades are executed at open/close prices, matching assignment requirements."
   ]
  },
  {
   "cell_type": "markdown",
   "id": "1f0dab51",
   "metadata": {},
   "source": [
    "## 3. Strategy Design & Implementation\n",
    "\n",
    "**3.1. Post-Announcement Momentum**  \n",
    "- Buy stocks at the open the day after the index addition is announced.\n",
    "- Exit any day before or on the index \"trade date\" (parameter sweep for optimal holding period).\n",
    "\n",
    "**3.2. Event Day Reversion**  \n",
    "- On the index \"trade date\", trade for mean reversion: short outperformers, buy underperformers vs. SPY.\n",
    "- Exit after a parameterized holding period.\n",
    "\n",
    "**3.3. Buy-and-Hold**  \n",
    "- Buy at the open after announcement, hold for a fixed period (parameter sweep for entry lag and holding days).\n",
    "\n",
    "**3.4. Hedged Momentum**  \n",
    "- Buy event stock, short SPY in proportion (hedge ratio), hold for N days.\n",
    "- Parameters: hedge ratio, holding period, ADV filter.\n",
    "\n",
    "**3.5. Parameter Sweeps & Optimization**  \n",
    "- All strategies use parameter sweeps (via `sweeps.py`) and ML-based optimization (`optimizer.py`) to select best Sharpe ratio.\n",
    "- Results are robust to missing data and type errors.\n",
    "\n",
    "**3.6. Risk Management & Constraints**  \n",
    "- Portfolio size: $5,000,000 (no compounding).\n",
    "- Position sizing: ≤ 1% of 20-day ADV.\n",
    "- Transaction cost: $0.01/share.\n",
    "- Overnight cost: Fed Funds + 1.5% (long), Fed Funds + 1% (short).\n",
    "- Execution: open/close prices only.\n",
    "- Hedging: SPY used for all relevant strategies.\n",
    "\n",
    "**3.7. Code Structure & Organization**  \n",
    "- `strategies.py`: Core strategy logic (modular, robust).\n",
    "- `sweeps.py`: Parameter sweeps (separated for clarity and reusability).\n",
    "- `optimizer.py`: ML and grid optimization (handles empty/missing data gracefully).\n",
    "- `backtest_strategies.py`: Orchestrates data prep, optimization, backtesting, and reporting.\n",
    "- `utils.py`, `data_prep.py`: Supporting utilities and data loading.\n",
    "- All code is well-commented, with clear function names and logical structure."
   ]
  },
  {
   "cell_type": "markdown",
   "id": "e000c412",
   "metadata": {},
   "source": [
    "## 4. Parameter Sweeps & Optimization\n",
    "\n",
    "**Why use `sweeps.py`?**  \n",
    "- Separating parameter sweeps into their own module (`sweeps.py`) is a best practice:\n",
    "    - Keeps strategy logic clean and focused.\n",
    "    - Allows easy reuse and extension of sweep logic.\n",
    "    - Enables robust error handling and JSON serialization for reporting.\n",
    "- Wrappers are used in `backtest_strategies.py` to adapt scalar parameters for ML optimization, ensuring flexibility and maintainability.\n",
    "\n",
    "**Backtest & Optimizer Design:**  \n",
    "- The pipeline is robust, modular, and easy to follow.\n",
    "- All parameter casting and filtering is explicit, reducing runtime errors.\n",
    "- Results and figures are saved in a structured way for easy reporting and reproducibility."
   ]
  },
  {
   "cell_type": "markdown",
   "id": "99d2c2eb",
   "metadata": {},
   "source": [
    "## 5. Results: Performance Metrics & Analysis\n",
    "\n",
    "**5.1. Summary Table of Best Strategies**\n",
    "\n",
    "| Strategy                  | Parameters                        | Sharpe | Total Net PnL | Trades | Max Drawdown |\n",
    "|---------------------------|-----------------------------------|--------|---------------|--------|--------------|\n",
    "| Post-Announcement Mom.    | hold_days=2                       | 1.96   | $77,747       | 94     | $90,509      |\n",
    "| Event Day Reversion       | threshold=0.001, hold_days=4      | -10.90 | -$598,159     | 78     | $585,939     |\n",
    "| Buy-and-Hold              | entry_lag=1, hold_days=5          | 5.30   | $242,803      | 63     | $29,224      |\n",
    "| Hedged Momentum           | hedge_ratio=0.5, hold_days=6, min_adv=5 | 1.54   | $23,461       | 55     | $6,696       |\n",
    "\n",
    "**Notes:**\n",
    "- Buy-and-Hold is the best performing model by Sharpe and net PnL.\n",
    "- Event Day Reversion is highly negative and should be reviewed or excluded.\n",
    "- All metrics are based on out-of-sample backtests with full transaction and carry costs."
   ]
  },
  {
   "cell_type": "code",
   "execution_count": null,
   "id": "94893771",
   "metadata": {},
   "outputs": [],
   "source": [
    "import json\n",
    "import matplotlib.pyplot as plt\n",
    "\n",
    "# Load summary metrics\n",
    "with open(\"../results/summaries/post_announcement_momentum_summary.json\") as f: pam_summary = json.load(f)\n",
    "with open(\"../results/summaries/event_day_reversion_summary.json\") as f: edr_summary = json.load(f)\n",
    "with open(\"../results/summaries/buy_and_hold_summary.json\") as f: bh_summary = json.load(f)\n",
    "with open(\"../results/summaries/hedged_momentum_summary.json\") as f: hm_summary = json.load(f)\n",
    "\n",
    "# Display summary metrics\n",
    "print(\"Post-Announcement Momentum:\", pam_summary)\n",
    "print(\"Event Day Reversion:\", edr_summary)\n",
    "print(\"Buy-and-Hold:\", bh_summary)\n",
    "print(\"Hedged Momentum:\", hm_summary)"
   ]
  },
  {
   "cell_type": "markdown",
   "id": "f5a5fea6",
   "metadata": {},
   "source": [
    "### 5.2. Equity Curves & PnL Plots\n",
    "\n",
    "Below are the cumulative PnL plots for each strategy, as saved during backtesting."
   ]
  },
  {
   "cell_type": "code",
   "execution_count": null,
   "id": "33b5f150",
   "metadata": {},
   "outputs": [],
   "source": [
    "import matplotlib.image as mpimg\n",
    "import matplotlib.pyplot as plt\n",
    "\n",
    "fig, axs = plt.subplots(2, 2, figsize=(14, 10))\n",
    "\n",
    "# Post-Announcement Momentum\n",
    "img = mpimg.imread(\"../results/figures/post_announcement_momentum_pnl.png\")\n",
    "axs[0, 0].imshow(img)\n",
    "axs[0, 0].set_title(\"Post-Announcement Momentum PnL\")\n",
    "axs[0, 0].axis('off')\n",
    "\n",
    "# Event Day Reversion\n",
    "img = mpimg.imread(\"../results/figures/event_day_reversion_pnl.png\")\n",
    "axs[0, 1].imshow(img)\n",
    "axs[0, 1].set_title(\"Event Day Reversion PnL\")\n",
    "axs[0, 1].axis('off')\n",
    "\n",
    "# Buy-and-Hold\n",
    "img = mpimg.imread(\"../results/figures/buy_and_hold_pnl.png\")\n",
    "axs[1, 0].imshow(img)\n",
    "axs[1, 0].set_title(\"Buy-and-Hold PnL\")\n",
    "axs[1, 0].axis('off')\n",
    "\n",
    "# Hedged Momentum\n",
    "img = mpimg.imread(\"../results/figures/hedged_momentum_5d_pnl.png\")\n",
    "axs[1, 1].imshow(img)\n",
    "axs[1, 1].set_title(\"Hedged Momentum PnL\")\n",
    "axs[1, 1].axis('off')\n",
    "\n",
    "plt.tight_layout()\n",
    "plt.show()"
   ]
  },
  {
   "cell_type": "markdown",
   "id": "87bf37cb",
   "metadata": {},
   "source": [
    "## 6. Risk Management & Portfolio Constraints\n",
    "\n",
    "- **Portfolio Size:** $5,000,000 (no compounding).\n",
    "- **Position Sizing:** ≤ 1% of 20-day ADV.\n",
    "- **Transaction Cost:** $0.01/share.\n",
    "- **Overnight Cost:** Fed Funds + 1.5% (long), Fed Funds + 1% (short).\n",
    "- **Execution:** Open/close prices only.\n",
    "- **Hedging:** SPY used for all relevant strategies.\n",
    "- **Liquidity & Exclusions:** All exclusions (no price, illiquid, too small) are tracked and reported.\n",
    "\n",
    "**Risk Discussion:**\n",
    "- Strategies are robust to missing data and liquidity constraints.\n",
    "- Hedging reduces market risk but may reduce returns.\n",
    "- Event Day Reversion strategy performed poorly, highlighting the risk of mean reversion trades around index events."
   ]
  },
  {
   "cell_type": "markdown",
   "id": "79099df6",
   "metadata": {},
   "source": [
    "## 7. Decision-Making Process & Assumptions\n",
    "\n",
    "- **Data Handling:**  \n",
    "    - Excluded events with missing price data or insufficient liquidity.\n",
    "    - Only included trades where both ticker and event date had available price data.\n",
    "- **Parameter Selection:**  \n",
    "    - Used parameter sweeps and ML optimization to select best Sharpe ratio for each strategy.\n",
    "- **Strategy Focus:**  \n",
    "    - Focused on S&P 400/500/600 index additions.\n",
    "    - Did not cover every event type; prioritized strategies with strong potential.\n",
    "- **Additional Sources:**  \n",
    "    - Used Yahoo Finance for price data, FRED for Fed Funds rates.\n",
    "- **Assumptions:**  \n",
    "    - All trades executed at open/close prices.\n",
    "    - No compounding; portfolio size fixed.\n",
    "    - Transaction and carry costs applied as specified."
   ]
  },
  {
   "cell_type": "markdown",
   "id": "bbeaf463",
   "metadata": {},
   "source": [
    "## 8. Tools & Technical Implementation\n",
    "\n",
    "- **Python**: Main language for all data processing, backtesting, and analysis.\n",
    "- **Pandas, NumPy**: Data manipulation and analysis.\n",
    "- **Matplotlib**: Plotting and visualization.\n",
    "- **yfinance**: Downloading historical price data.\n",
    "- **Jupyter Notebook**: Reporting and documentation.\n",
    "- **Custom Modules**:  \n",
    "    - `strategies.py`, `sweeps.py`, `optimizer.py`, `backtest_strategies.py`, `utils.py`, `data_prep.py`\n",
    "- **Code Quality:**  \n",
    "    - Modular, well-documented, robust to missing data and type errors.\n",
    "    - Clear separation of concerns and logical structure."
   ]
  },
  {
   "cell_type": "markdown",
   "id": "5e71abe4",
   "metadata": {},
   "source": [
    "## 9. Conclusions & Recommendations\n",
    "\n",
    "- **Best Strategy:** Buy-and-Hold (entry lag=1, hold_days=5) delivered the highest Sharpe and net PnL.\n",
    "- **Hedging:** Hedged Momentum provided risk reduction but lower returns.\n",
    "- **Event Day Reversion:** Performed poorly; mean reversion is not a reliable edge around index events in this sample.\n",
    "- **Robustness:** The pipeline is robust, modular, and easy to extend for new strategies or data.\n",
    "- **Next Steps:**  \n",
    "    - Explore alternative hedges (sector ETFs, cointegrated pairs).\n",
    "    - Refine mean reversion logic or focus on momentum-based approaches.\n",
    "    - Consider more granular liquidity and risk controls for live trading.\n",
    "\n",
    "**This project demonstrates a systematic, data-driven approach to event-driven trading strategy research, with full transparency and reproducibility.**"
   ]
  }
 ],
 "metadata": {
  "kernelspec": {
   "display_name": "Python 3",
   "language": "python",
   "name": "python3"
  },
  "language_info": {
   "codemirror_mode": {
    "name": "ipython",
    "version": 3
   },
   "file_extension": ".py",
   "mimetype": "text/x-python",
   "name": "python",
   "nbconvert_exporter": "python",
   "pygments_lexer": "ipython3",
   "version": "3.11.9"
  }
 },
 "nbformat": 4,
 "nbformat_minor": 5
}
